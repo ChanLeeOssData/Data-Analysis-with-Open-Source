{
  "cells": [
    {
      "cell_type": "markdown",
      "metadata": {
        "id": "view-in-github",
        "colab_type": "text"
      },
      "source": [
        "<a href=\"https://colab.research.google.com/github/ChanLeeOssData/Data-Analysis-with-Open-Source/blob/main/%EC%98%A4%ED%94%88%EC%86%8C%EC%8A%A4_%EB%8D%B0%EC%9D%B4%ED%84%B0_%EB%B6%84%EC%84%9D_2%EA%B0%95.ipynb\" target=\"_parent\"><img src=\"https://colab.research.google.com/assets/colab-badge.svg\" alt=\"Open In Colab\"/></a>"
      ]
    },
    {
      "cell_type": "markdown",
      "metadata": {
        "id": "DkPKaAsoRq5Q"
      },
      "source": [
        "\n",
        "\n",
        "# 오픈소스 기반 데이터 분석 2강 - 데이터 분석을 위한 파이썬 1\n"
      ]
    },
    {
      "cell_type": "code",
      "source": [
        "numbers = [10, 20, 30, 40, 50, 60, 70]\n",
        "subset1=numbers[0:3]\n",
        "print(subset1)"
      ],
      "metadata": {
        "id": "to3AXpHzDXN7",
        "outputId": "514de259-8791-4cac-d0f2-19b272f2cc42",
        "colab": {
          "base_uri": "https://localhost:8080/"
        }
      },
      "execution_count": 3,
      "outputs": [
        {
          "output_type": "stream",
          "name": "stdout",
          "text": [
            "[10, 20, 30]\n"
          ]
        }
      ]
    },
    {
      "cell_type": "code",
      "source": [
        "numbers = [10, 20, 30, 40, 50, 60, 70]\n",
        "subset2=numbers[2],numbers[5]\n",
        "print(subset2)"
      ],
      "metadata": {
        "id": "AwdNKJLyG7Yj",
        "outputId": "592d45cc-cfff-47c0-ccca-f53668d6f84c",
        "colab": {
          "base_uri": "https://localhost:8080/"
        }
      },
      "execution_count": 9,
      "outputs": [
        {
          "output_type": "stream",
          "name": "stdout",
          "text": [
            "(30, 60)\n"
          ]
        }
      ]
    },
    {
      "cell_type": "code",
      "source": [
        "print(numbers[2:5:2])"
      ],
      "metadata": {
        "id": "nd88zvZGroW9",
        "outputId": "d7466a80-327d-4988-e40b-16ea992be6aa",
        "colab": {
          "base_uri": "https://localhost:8080/"
        }
      },
      "execution_count": 10,
      "outputs": [
        {
          "output_type": "stream",
          "name": "stdout",
          "text": [
            "[30, 50]\n"
          ]
        }
      ]
    },
    {
      "cell_type": "code",
      "source": [
        "print(numbers[-2::-4\n",
        "            ])"
      ],
      "metadata": {
        "id": "BYQ_yqYxHw2z",
        "outputId": "b3677e83-24e1-4536-bd26-0bcbdc31a53c",
        "colab": {
          "base_uri": "https://localhost:8080/"
        }
      },
      "execution_count": 12,
      "outputs": [
        {
          "output_type": "stream",
          "name": "stdout",
          "text": [
            "[60, 20]\n"
          ]
        }
      ]
    },
    {
      "cell_type": "code",
      "source": [
        "print(numbers[-3:])"
      ],
      "metadata": {
        "id": "Lxp06su-IOrb",
        "outputId": "98807df1-6112-4465-bafe-d08a283727f5",
        "colab": {
          "base_uri": "https://localhost:8080/"
        }
      },
      "execution_count": 17,
      "outputs": [
        {
          "output_type": "stream",
          "name": "stdout",
          "text": [
            "[50, 60, 70]\n"
          ]
        }
      ]
    },
    {
      "cell_type": "code",
      "source": [
        "print(numbers[::2])"
      ],
      "metadata": {
        "id": "RPEv2TbCI8Sz",
        "outputId": "1a075738-773c-404a-a174-cea7e56e382f",
        "colab": {
          "base_uri": "https://localhost:8080/"
        }
      },
      "execution_count": 18,
      "outputs": [
        {
          "output_type": "stream",
          "name": "stdout",
          "text": [
            "[10, 30, 50, 70]\n"
          ]
        }
      ]
    },
    {
      "cell_type": "code",
      "source": [
        "print(numbers[-1:-6:-2])"
      ],
      "metadata": {
        "id": "mzCI-6oeJOFp",
        "outputId": "17dfc4ea-f4f9-486c-da3a-6036e9f6d5ed",
        "colab": {
          "base_uri": "https://localhost:8080/"
        }
      },
      "execution_count": 19,
      "outputs": [
        {
          "output_type": "stream",
          "name": "stdout",
          "text": [
            "[70, 50, 30]\n"
          ]
        }
      ]
    },
    {
      "cell_type": "code",
      "source": [
        "matrix = [[1, 2, 3, 4],[5, 6, 7, 8], [9, 10, 11, 12],[13, 14, 15, 16]]"
      ],
      "metadata": {
        "id": "8vGaTpU-Jf5a"
      },
      "execution_count": 20,
      "outputs": []
    },
    {
      "cell_type": "markdown",
      "metadata": {
        "id": "-I7BVVlnRrB0"
      },
      "source": [
        "## 2-1 리스트 슬라이싱"
      ]
    },
    {
      "cell_type": "code",
      "execution_count": null,
      "metadata": {
        "id": "2Y2HEiaiRwAI",
        "outputId": "1a9d28d6-f48d-4f88-d33b-4b5548f76fcc",
        "colab": {
          "base_uri": "https://localhost:8080/"
        }
      },
      "outputs": [
        {
          "output_type": "stream",
          "name": "stdout",
          "text": [
            "[10, 20, 30, 40]\n",
            "[50, 60, 70]\n"
          ]
        }
      ],
      "source": [
        "numbers = [10, 20, 30, 40, 50, 60, 70]\n",
        "# 첫 4개의 원소 출력\n",
        "first_four = numbers[0:4]\n",
        "print(first_four)\n",
        "# 뒤 3개의 원소를 출력\n",
        "last_three = numbers[-3:]\n",
        "print(last_three)"
      ]
    },
    {
      "cell_type": "code",
      "execution_count": null,
      "metadata": {
        "id": "IO8bsKekR0W_",
        "outputId": "f5bc777d-ed7f-40d6-fc5b-15471eecda26",
        "colab": {
          "base_uri": "https://localhost:8080/"
        }
      },
      "outputs": [
        {
          "output_type": "stream",
          "name": "stdout",
          "text": [
            "[10, 30, 50, 70]\n",
            "[70, 60, 50, 40, 30, 20, 10]\n"
          ]
        }
      ],
      "source": [
        "numbers = [10, 20, 30, 40, 50, 60, 70]\n",
        "\n",
        "# 홀수번째 항목 출력\n",
        "every_other_list = numbers [:: 2]\n",
        "print(every_other_list)\n",
        "\n",
        "# 역순 출력\n",
        "reverse_list = numbers [:: -1]\n",
        "print(reverse_list)"
      ]
    },
    {
      "cell_type": "code",
      "execution_count": null,
      "metadata": {
        "id": "60qOf7uxVdAg",
        "outputId": "eb4215e8-9992-4914-8dbf-274407a92dfb",
        "colab": {
          "base_uri": "https://localhost:8080/"
        }
      },
      "outputs": [
        {
          "output_type": "stream",
          "name": "stdout",
          "text": [
            "[[1, 2, 3, 4], [5, 6, 7, 8]]\n",
            "[[1, 2], [5, 6], [9, 10], [13, 14]]\n"
          ]
        }
      ],
      "source": [
        "matrix = [\n",
        "    [1, 2, 3, 4],\n",
        "    [5, 6, 7, 8],\n",
        "    [9, 10, 11, 12],\n",
        "    [13, 14, 15, 16]\n",
        "]\n",
        "\n",
        "# 첫 두 행 출력\n",
        "first_two_rows = matrix[0:2]\n",
        "print(first_two_rows)\n",
        "\n",
        "# 첫 두 열 출력\n",
        "first_two_columns = [row[0:2] for row in matrix]\n",
        "\n",
        "print(first_two_columns)"
      ]
    },
    {
      "cell_type": "code",
      "source": [],
      "metadata": {
        "id": "an4GebbTKAKF",
        "outputId": "b9bb7243-ad14-43d2-c4b8-87fcee3e70e5",
        "colab": {
          "base_uri": "https://localhost:8080/",
          "height": 110
        }
      },
      "execution_count": 21,
      "outputs": [
        {
          "output_type": "error",
          "ename": "SyntaxError",
          "evalue": "invalid syntax. Perhaps you forgot a comma? (ipython-input-2220780910.py, line 8)",
          "traceback": [
            "\u001b[0;36m  File \u001b[0;32m\"/tmp/ipython-input-2220780910.py\"\u001b[0;36m, line \u001b[0;32m8\u001b[0m\n\u001b[0;31m    print(i first_two_rows)\u001b[0m\n\u001b[0m          ^\u001b[0m\n\u001b[0;31mSyntaxError\u001b[0m\u001b[0;31m:\u001b[0m invalid syntax. Perhaps you forgot a comma?\n"
          ]
        }
      ]
    },
    {
      "cell_type": "code",
      "source": [
        "matrix = [\n",
        "    [1, 2, 3, 4],\n",
        "    [5, 6, 7, 8],\n",
        "    [9, 10, 11, 12],\n",
        "    [13, 14, 15, 16]\n",
        "]\n",
        "\n",
        "print(i[0:2] for i in matrix)"
      ],
      "metadata": {
        "id": "78-lSem4JnqC",
        "outputId": "eb0f6f05-b2e5-486a-da0b-05af023e5771",
        "colab": {
          "base_uri": "https://localhost:8080/"
        }
      },
      "execution_count": 22,
      "outputs": [
        {
          "output_type": "stream",
          "name": "stdout",
          "text": [
            "<generator object <genexpr> at 0x7def7f39e810>\n"
          ]
        }
      ]
    },
    {
      "cell_type": "markdown",
      "metadata": {
        "id": "eOMufu5SXiAU"
      },
      "source": [
        "## 2-2 리스트 컴프리헨션"
      ]
    },
    {
      "cell_type": "code",
      "execution_count": null,
      "metadata": {
        "id": "JpmgdsW9V0CY",
        "outputId": "e9ddfe7a-9b45-48d8-f0b6-a3f76e99d18b",
        "colab": {
          "base_uri": "https://localhost:8080/"
        }
      },
      "outputs": [
        {
          "output_type": "stream",
          "name": "stdout",
          "text": [
            "{0, 1, 2, 3, 4}\n"
          ]
        }
      ],
      "source": [
        "numbers = [ ]\n",
        "\n",
        "# 0 ~ 4 포함 리스트 생성\n",
        "\n",
        "numbers = {num for num in range(5)}\n",
        "print(numbers)"
      ]
    },
    {
      "cell_type": "code",
      "execution_count": null,
      "metadata": {
        "id": "cRC8x3_iW0im",
        "outputId": "3f4eef5d-b484-4d40-afe9-ebeb6d53db02",
        "colab": {
          "base_uri": "https://localhost:8080/"
        }
      },
      "outputs": [
        {
          "output_type": "stream",
          "name": "stdout",
          "text": [
            "[1, 4, 9, 16, 25]\n"
          ]
        }
      ],
      "source": [
        "numbers = [1, 2, 3, 4, 5]\n",
        "squares = [ ]\n",
        "\n",
        "# numbers의 모든 항목의 값을 제곱한 리스트\n",
        "\n",
        "squares = [num**2 for num in numbers]\n",
        "\n",
        "print(squares)"
      ]
    },
    {
      "cell_type": "code",
      "execution_count": null,
      "metadata": {
        "id": "MAvimjk6Fqlc",
        "outputId": "394e76b7-dea8-4aae-ee5a-f55eb676aec6",
        "colab": {
          "base_uri": "https://localhost:8080/"
        }
      },
      "outputs": [
        {
          "output_type": "stream",
          "name": "stdout",
          "text": [
            "[2, 4, 6, 8, 10]\n"
          ]
        }
      ],
      "source": [
        "numbers = [1, 2, 3, 4, 5, 6, 7, 8, 9, 10]\n",
        "even_numbers = [ ]\n",
        "\n",
        "# 짝수만 추출한 리스트\n",
        "\n",
        "even_numbers = [num for num in numbers if num %2==0]\n",
        "print(even_numbers)"
      ]
    },
    {
      "cell_type": "code",
      "execution_count": null,
      "metadata": {
        "id": "HGO8XTxBFqld",
        "outputId": "9fde5c17-da76-4a15-f0f7-7ae4ef4c42d2",
        "colab": {
          "base_uri": "https://localhost:8080/"
        }
      },
      "outputs": [
        {
          "output_type": "stream",
          "name": "stdout",
          "text": [
            "[('사과', '주스'), ('사과', '잼'), ('사과', '통조림'), ('복숭아', '주스'), ('복숭아', '잼'), ('복숭아', '통조림'), ('바나나', '주스'), ('바나나', '잼'), ('바나나', '통조림')]\n"
          ]
        }
      ],
      "source": [
        "list1 = ['사과', '복숭아', '바나나']\n",
        "list2 = ['주스', '잼', '통조림']\n",
        "pairs = [ ]\n",
        "\n",
        "# 두 리스트에 포함되 모든 원소를 조합한 투플의 리스트 생성\n",
        "\n",
        "pairs= [(fruit, product) for fruit in list1 for product in list2]\n",
        "\n",
        "print(pairs)"
      ]
    },
    {
      "cell_type": "code",
      "execution_count": null,
      "metadata": {
        "id": "K-BPhFTUFqle",
        "outputId": "2a467940-edcc-41ee-833b-aa8c573e0852",
        "colab": {
          "base_uri": "https://localhost:8080/"
        }
      },
      "outputs": [
        {
          "output_type": "stream",
          "name": "stdout",
          "text": [
            "{0: 0, 1: 1, 2: 4, 3: 9, 4: 16}\n"
          ]
        }
      ],
      "source": [
        "squares = { }\n",
        "\n",
        "# 딕셔너리 생성\n",
        "for i in range(5):\n",
        "    squares[i] = i ** 2\n",
        "squares = {i: i**2 for i in range(5)}\n",
        "print(squares)"
      ]
    },
    {
      "cell_type": "code",
      "execution_count": null,
      "metadata": {
        "id": "UoTcC8-GFqlf",
        "outputId": "b9b42005-1311-4428-ab40-e21fd980e64e",
        "colab": {
          "base_uri": "https://localhost:8080/"
        }
      },
      "outputs": [
        {
          "output_type": "stream",
          "name": "stdout",
          "text": [
            "{'서울': 957, '부산': 339, '인천': 294, '대구': 242}\n",
            "{'부산': 339}\n"
          ]
        }
      ],
      "source": [
        "city_population = {\n",
        "    '서울': 957, '부산': 339, '인천': 294, '대구': 242, '광주': 145, '대전': 147,\n",
        "    '울산': 114, '세종': 36, '수원': 115, '창원': 103, '고양': 105, '용인': 108, '성남': 94\n",
        "}\n",
        "\n",
        "# 인구 200만명 이상의 도시 리스트\n",
        "large_cities = {city: pop for city, pop in city_population. items() if pop>= 200}\n",
        "print(large_cities)\n",
        "\n",
        "# 인구 300만 이상 및 이름에 '산'이 포함된 도시 리스트\n",
        "large_short_name_cities = {city:pop for city, pop in city_population. items() if pop>=300 and '산' in city}\n",
        "print(large_short_name_cities)"
      ]
    },
    {
      "cell_type": "markdown",
      "metadata": {
        "id": "njDOfr1LFqlf"
      },
      "source": [
        "## 2-3 문자열 형식화"
      ]
    },
    {
      "cell_type": "code",
      "execution_count": null,
      "metadata": {
        "id": "fzO0h6KfFqlg",
        "outputId": "37a6cba4-df43-4ca9-8ede-618e302d0e98",
        "colab": {
          "base_uri": "https://localhost:8080/",
          "height": 221
        }
      },
      "outputs": [
        {
          "output_type": "stream",
          "name": "stdout",
          "text": [
            "이름:홍길동 나이:30 월급:3,500,000원\n"
          ]
        },
        {
          "output_type": "error",
          "ename": "NameError",
          "evalue": "name 'index_format' is not defined",
          "traceback": [
            "\u001b[0;31m---------------------------------------------------------------------------\u001b[0m",
            "\u001b[0;31mNameError\u001b[0m                                 Traceback (most recent call last)",
            "\u001b[0;32m/tmp/ipython-input-3769968445.py\u001b[0m in \u001b[0;36m<cell line: 0>\u001b[0;34m()\u001b[0m\n\u001b[1;32m     15\u001b[0m \u001b[0;34m\u001b[0m\u001b[0m\n\u001b[1;32m     16\u001b[0m \u001b[0mprint\u001b[0m\u001b[0;34m(\u001b[0m\u001b[0mbasic_format\u001b[0m\u001b[0;34m)\u001b[0m\u001b[0;34m\u001b[0m\u001b[0;34m\u001b[0m\u001b[0m\n\u001b[0;32m---> 17\u001b[0;31m \u001b[0mprint\u001b[0m\u001b[0;34m(\u001b[0m\u001b[0mindex_format\u001b[0m\u001b[0;34m)\u001b[0m\u001b[0;34m\u001b[0m\u001b[0;34m\u001b[0m\u001b[0m\n\u001b[0m\u001b[1;32m     18\u001b[0m \u001b[0mprint\u001b[0m\u001b[0;34m(\u001b[0m\u001b[0mkeyword_format\u001b[0m\u001b[0;34m)\u001b[0m\u001b[0;34m\u001b[0m\u001b[0;34m\u001b[0m\u001b[0m\n",
            "\u001b[0;31mNameError\u001b[0m: name 'index_format' is not defined"
          ]
        }
      ],
      "source": [
        "name = '홍길동'\n",
        "age = 30\n",
        "salary = 3500000\n",
        "tax_rate = 0.1\n",
        "\n",
        "# C 스타일 문자열 포매팅\n",
        "# 이름, 나이, 월급 출력\n",
        "\n",
        "basic_format = F'이름:{name} 나이:{age} 월급:{salary:,}원'\n",
        "# 직원이름, 나이, 세후 월급 출력\n",
        "\n",
        "\n",
        "# 직원이름, 나이, 월급, 세금, 실수령액 추력\n",
        "\n",
        "\n",
        "print(basic_format)\n",
        "print(index_format)\n",
        "print(keyword_format)"
      ]
    },
    {
      "cell_type": "code",
      "source": [
        "name = '홍길동'\n",
        "age = 30\n",
        "salary = 3500000\n",
        "tax_rate = 0.1\n",
        "\n",
        "# str.format 문자열 포매팅\n",
        "# 이름, 나이, 월급 출력\n",
        "\n",
        "# 직원이름, 나이, 세후 월급 출력\n",
        "\n",
        "# 직원이름, 나이, 월급, 세금, 실수령액 추력\n",
        "\n",
        "\n",
        "print(basic_format)\n",
        "print(index_format)\n",
        "print(keyword_format)"
      ],
      "metadata": {
        "id": "cIvmmcQux_ph"
      },
      "execution_count": null,
      "outputs": []
    },
    {
      "cell_type": "code",
      "source": [
        "name = '홍길동'\n",
        "age = 30\n",
        "salary = 3500000\n",
        "tax_rate = 0.1\n",
        "\n",
        "# f-문자열 포매팅\n",
        "# 이름, 나이, 월급 출력\n",
        "\n",
        "# 직원이름, 나이, 세후 월급 출력\n",
        "\n",
        "# 직원이름, 나이, 월급, 세금, 실수령액 추력\n",
        "\n",
        "\n",
        "print(basic_format)\n",
        "print(index_format)\n",
        "print(keyword_format)"
      ],
      "metadata": {
        "id": "EIO3z-XQx_ce"
      },
      "execution_count": null,
      "outputs": []
    },
    {
      "cell_type": "markdown",
      "metadata": {
        "id": "6lnhCleJFqlg"
      },
      "source": [
        "## 2-4 컨텍스트 관리"
      ]
    },
    {
      "cell_type": "code",
      "execution_count": null,
      "metadata": {
        "id": "eFpmQp3QFqlh"
      },
      "outputs": [],
      "source": [
        "# 파일 오픈 & 클로즈\n",
        "with open('output.txt', 'w') as file_write:\n",
        "    file_write.write('Hello, world!\\n')\n"
      ]
    },
    {
      "cell_type": "code",
      "execution_count": null,
      "metadata": {
        "id": "D0aOLti0Fqlh"
      },
      "outputs": [],
      "source": [
        "# 복수개의 파일(읽기 & 쓰기) 관리\n",
        "\n"
      ]
    },
    {
      "cell_type": "code",
      "execution_count": null,
      "metadata": {
        "id": "6SE0rrD5Fqli"
      },
      "outputs": [],
      "source": [
        "import urllib.request\n",
        "\n",
        "# URL 연결 관리\n",
        "('https://raw.githubusercontent.com/jaehwachung/Data-Analysis-with-Open-Source/refs/heads/main/Chapter%203/students.csv')\n",
        "    data = response.read( ).decode('utf-8')\n",
        "\n",
        "print(data)"
      ]
    }
  ],
  "metadata": {
    "colab": {
      "provenance": [],
      "include_colab_link": true
    },
    "kernelspec": {
      "display_name": "Python 3",
      "name": "python3"
    },
    "language_info": {
      "name": "python"
    }
  },
  "nbformat": 4,
  "nbformat_minor": 0
}